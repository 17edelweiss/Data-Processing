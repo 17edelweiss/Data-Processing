{
 "cells": [
  {
   "cell_type": "markdown",
   "metadata": {},
   "source": [
    "# Pandas设置值"
   ]
  },
  {
   "cell_type": "code",
   "execution_count": 1,
   "metadata": {},
   "outputs": [
    {
     "name": "stdout",
     "output_type": "stream",
     "text": [
      "             A   B   C   D\n",
      "2018-10-14   0   1   2   3\n",
      "2018-10-15   4   5   6   7\n",
      "2018-10-16   8   9  10  11\n",
      "2018-10-17  12  13  14  15\n",
      "2018-10-18  16  17  18  19\n",
      "2018-10-19  20  21  22  23\n"
     ]
    }
   ],
   "source": [
    "import pandas as pd\n",
    "import numpy as np\n",
    "dates = pd.date_range('20181014',periods=6)\n",
    "df = pd.DataFrame(np.arange(24).reshape((6,4)),index=dates,columns=['A','B','C','D'])\n",
    "print(df)"
   ]
  },
  {
   "cell_type": "markdown",
   "metadata": {},
   "source": [
    "## 通过下标来改变值 "
   ]
  },
  {
   "cell_type": "code",
   "execution_count": 2,
   "metadata": {},
   "outputs": [
    {
     "name": "stdout",
     "output_type": "stream",
     "text": [
      "             A   B    C   D\n",
      "2018-10-14   0   1    2   3\n",
      "2018-10-15   4   5    6   7\n",
      "2018-10-16   8   9  111  11\n",
      "2018-10-17  12  13   14  15\n",
      "2018-10-18  16  17   18  19\n",
      "2018-10-19  20  21   22  23\n"
     ]
    }
   ],
   "source": [
    "df.iloc[2,2] = 111\n",
    "print(df)"
   ]
  },
  {
   "cell_type": "markdown",
   "metadata": {},
   "source": [
    "## 通过标签来定位改值 "
   ]
  },
  {
   "cell_type": "code",
   "execution_count": 3,
   "metadata": {},
   "outputs": [
    {
     "name": "stdout",
     "output_type": "stream",
     "text": [
      "             A   B    C   D\n",
      "2018-10-14   0   1    2   3\n",
      "2018-10-15   4   5    6   7\n",
      "2018-10-16   8   9  222  11\n",
      "2018-10-17  12  13   14  15\n",
      "2018-10-18  16  17   18  19\n",
      "2018-10-19  20  21   22  23\n"
     ]
    }
   ],
   "source": [
    "df.loc['20181016','C'] = 222\n",
    "print(df)"
   ]
  },
  {
   "cell_type": "markdown",
   "metadata": {},
   "source": [
    "## 通过Boolean条件来改变值 "
   ]
  },
  {
   "cell_type": "markdown",
   "metadata": {},
   "source": [
    "将DataFrame中第A列值小于5的行的每一列改为0"
   ]
  },
  {
   "cell_type": "code",
   "execution_count": 4,
   "metadata": {},
   "outputs": [
    {
     "name": "stdout",
     "output_type": "stream",
     "text": [
      "             A   B    C   D\n",
      "2018-10-14   0   0    0   0\n",
      "2018-10-15   0   0    0   0\n",
      "2018-10-16   8   9  222  11\n",
      "2018-10-17  12  13   14  15\n",
      "2018-10-18  16  17   18  19\n",
      "2018-10-19  20  21   22  23\n"
     ]
    }
   ],
   "source": [
    "df[df.A<5] = 0 \n",
    "print(df)"
   ]
  },
  {
   "cell_type": "markdown",
   "metadata": {},
   "source": [
    "**如果只想改变DataFrame中第A列值小于5的行的某一列的值** "
   ]
  },
  {
   "cell_type": "code",
   "execution_count": 5,
   "metadata": {},
   "outputs": [
    {
     "name": "stdout",
     "output_type": "stream",
     "text": [
      "             A   B   C   D\n",
      "2018-10-14   0   1   2   3\n",
      "2018-10-15   4   5   6   7\n",
      "2018-10-16   8   9  10  11\n",
      "2018-10-17  12  13  14  15\n",
      "2018-10-18  16  17  18  19\n",
      "2018-10-19  20  21  22  23\n",
      "             A   B   C   D\n",
      "2018-10-14   0   1   2   3\n",
      "2018-10-15   0   5   6   7\n",
      "2018-10-16   8   9  10  11\n",
      "2018-10-17  12  13  14  15\n",
      "2018-10-18  16  17  18  19\n",
      "2018-10-19  20  21  22  23\n"
     ]
    }
   ],
   "source": [
    "df = pd.DataFrame(np.arange(24).reshape((6,4)),index=dates,columns=['A','B','C','D'])\n",
    "print(df)\n",
    "df.A[df.A<5] = 0\n",
    "print(df)"
   ]
  },
  {
   "cell_type": "markdown",
   "metadata": {},
   "source": [
    "根据某一列的判断更改另外一列也是可以的，例如下面判断A列的数据来改变B列的数据："
   ]
  },
  {
   "cell_type": "code",
   "execution_count": 6,
   "metadata": {},
   "outputs": [
    {
     "name": "stdout",
     "output_type": "stream",
     "text": [
      "             A   B   C   D\n",
      "2018-10-14   0   1   2   3\n",
      "2018-10-15   4   5   6   7\n",
      "2018-10-16   8   9  10  11\n",
      "2018-10-17  12  13  14  15\n",
      "2018-10-18  16  17  18  19\n",
      "2018-10-19  20  21  22  23\n",
      "             A   B   C   D\n",
      "2018-10-14   0   0   2   3\n",
      "2018-10-15   4   0   6   7\n",
      "2018-10-16   8   9  10  11\n",
      "2018-10-17  12  13  14  15\n",
      "2018-10-18  16  17  18  19\n",
      "2018-10-19  20  21  22  23\n"
     ]
    }
   ],
   "source": [
    "df = pd.DataFrame(np.arange(24).reshape((6,4)),index=dates,columns=['A','B','C','D'])\n",
    "print(df)\n",
    "df.B[df.A<5] = 0\n",
    "print(df)"
   ]
  },
  {
   "cell_type": "markdown",
   "metadata": {},
   "source": [
    "## 增加某一列 "
   ]
  },
  {
   "cell_type": "code",
   "execution_count": 7,
   "metadata": {},
   "outputs": [
    {
     "name": "stdout",
     "output_type": "stream",
     "text": [
      "             A   B   C   D   F\n",
      "2018-10-14   0   0   2   3 NaN\n",
      "2018-10-15   4   0   6   7 NaN\n",
      "2018-10-16   8   9  10  11 NaN\n",
      "2018-10-17  12  13  14  15 NaN\n",
      "2018-10-18  16  17  18  19 NaN\n",
      "2018-10-19  20  21  22  23 NaN\n"
     ]
    }
   ],
   "source": [
    "df['F'] = np.nan\n",
    "print(df)"
   ]
  },
  {
   "cell_type": "code",
   "execution_count": 8,
   "metadata": {},
   "outputs": [
    {
     "name": "stdout",
     "output_type": "stream",
     "text": [
      "             A   B   C   D   F  E\n",
      "2018-10-14   0   0   2   3 NaN  1\n",
      "2018-10-15   4   0   6   7 NaN  2\n",
      "2018-10-16   8   9  10  11 NaN  3\n",
      "2018-10-17  12  13  14  15 NaN  4\n",
      "2018-10-18  16  17  18  19 NaN  5\n",
      "2018-10-19  20  21  22  23 NaN  6\n"
     ]
    }
   ],
   "source": [
    "df['E'] = pd.Series([1,2,3,4,5,6],index=pd.date_range('20181014',periods=6))\n",
    "print(df)"
   ]
  }
 ],
 "metadata": {
  "kernelspec": {
   "display_name": "Python 3",
   "language": "python",
   "name": "python3"
  },
  "language_info": {
   "codemirror_mode": {
    "name": "ipython",
    "version": 3
   },
   "file_extension": ".py",
   "mimetype": "text/x-python",
   "name": "python",
   "nbconvert_exporter": "python",
   "pygments_lexer": "ipython3",
   "version": "3.6.5"
  }
 },
 "nbformat": 4,
 "nbformat_minor": 2
}
