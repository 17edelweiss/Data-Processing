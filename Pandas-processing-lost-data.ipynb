{
 "cells": [
  {
   "cell_type": "markdown",
   "metadata": {},
   "source": [
    "# Pandas处理丢失数据"
   ]
  },
  {
   "cell_type": "code",
   "execution_count": 2,
   "metadata": {},
   "outputs": [
    {
     "name": "stdout",
     "output_type": "stream",
     "text": [
      "             A     B     C   D\n",
      "2018-10-14   0   NaN   2.0   3\n",
      "2018-10-15   4   5.0   NaN   7\n",
      "2018-10-16   8   9.0  10.0  11\n",
      "2018-10-17  12  13.0  14.0  15\n",
      "2018-10-18  16  17.0  18.0  19\n",
      "2018-10-19  20  21.0  22.0  23\n"
     ]
    }
   ],
   "source": [
    "import pandas as pd\n",
    "import numpy as np\n",
    "dates = pd.date_range('20181014',periods=6)\n",
    "df = pd.DataFrame(np.arange(24).reshape((6,4)),index=dates,columns=['A','B','C','D'])\n",
    "df.iloc[0,1] = np.nan\n",
    "df.iloc[1,2] = np.nan\n",
    "print(df)"
   ]
  },
  {
   "cell_type": "markdown",
   "metadata": {},
   "source": [
    "## 过滤掉含NAN的行 "
   ]
  },
  {
   "cell_type": "code",
   "execution_count": 3,
   "metadata": {},
   "outputs": [
    {
     "name": "stdout",
     "output_type": "stream",
     "text": [
      "             A     B     C   D\n",
      "2018-10-16   8   9.0  10.0  11\n",
      "2018-10-17  12  13.0  14.0  15\n",
      "2018-10-18  16  17.0  18.0  19\n",
      "2018-10-19  20  21.0  22.0  23\n"
     ]
    }
   ],
   "source": [
    "print(df.dropna(axis=0,how = 'any'))"
   ]
  },
  {
   "cell_type": "markdown",
   "metadata": {},
   "source": [
    "how = {'any','all'}，对于上面这句代码any代表只要这一行有任何一个any，就丢掉这一行，all代表这一行全部为NAN才丢掉这一行"
   ]
  },
  {
   "cell_type": "markdown",
   "metadata": {},
   "source": [
    "## 过滤掉含NAN的列 "
   ]
  },
  {
   "cell_type": "code",
   "execution_count": 4,
   "metadata": {},
   "outputs": [
    {
     "name": "stdout",
     "output_type": "stream",
     "text": [
      "             A   D\n",
      "2018-10-14   0   3\n",
      "2018-10-15   4   7\n",
      "2018-10-16   8  11\n",
      "2018-10-17  12  15\n",
      "2018-10-18  16  19\n",
      "2018-10-19  20  23\n"
     ]
    }
   ],
   "source": [
    "print(df.dropna(axis=1,how='any'))"
   ]
  },
  {
   "cell_type": "markdown",
   "metadata": {},
   "source": [
    "而如果how是all的话，那么不会丢掉任何一行任何一列，因为all代表这一行或者这一列全为NAN的时候才会丢掉这一行或这一列"
   ]
  },
  {
   "cell_type": "code",
   "execution_count": 5,
   "metadata": {},
   "outputs": [
    {
     "name": "stdout",
     "output_type": "stream",
     "text": [
      "             A     B     C   D\n",
      "2018-10-14   0   NaN   2.0   3\n",
      "2018-10-15   4   5.0   NaN   7\n",
      "2018-10-16   8   9.0  10.0  11\n",
      "2018-10-17  12  13.0  14.0  15\n",
      "2018-10-18  16  17.0  18.0  19\n",
      "2018-10-19  20  21.0  22.0  23\n",
      "             A     B     C   D\n",
      "2018-10-14   0   NaN   2.0   3\n",
      "2018-10-15   4   5.0   NaN   7\n",
      "2018-10-16   8   9.0  10.0  11\n",
      "2018-10-17  12  13.0  14.0  15\n",
      "2018-10-18  16  17.0  18.0  19\n",
      "2018-10-19  20  21.0  22.0  23\n"
     ]
    }
   ],
   "source": [
    "print(df.dropna(axis=0,how='all'))\n",
    "print(df.dropna(axis=1,how='all'))"
   ]
  },
  {
   "cell_type": "markdown",
   "metadata": {},
   "source": [
    "**如果不想丢掉这些NAN，想用上这些NAN的数据，可以用下面这种方法：**"
   ]
  },
  {
   "cell_type": "code",
   "execution_count": 6,
   "metadata": {},
   "outputs": [
    {
     "name": "stdout",
     "output_type": "stream",
     "text": [
      "             A     B     C   D\n",
      "2018-10-14   0   0.0   2.0   3\n",
      "2018-10-15   4   5.0   0.0   7\n",
      "2018-10-16   8   9.0  10.0  11\n",
      "2018-10-17  12  13.0  14.0  15\n",
      "2018-10-18  16  17.0  18.0  19\n",
      "2018-10-19  20  21.0  22.0  23\n"
     ]
    }
   ],
   "source": [
    "print(df.fillna(value=0))"
   ]
  },
  {
   "cell_type": "markdown",
   "metadata": {},
   "source": [
    "可以看到，原本是NAN的位置变成了0.0"
   ]
  },
  {
   "cell_type": "markdown",
   "metadata": {},
   "source": [
    "## 检查DataFrame是否含有NAN"
   ]
  },
  {
   "cell_type": "code",
   "execution_count": 7,
   "metadata": {},
   "outputs": [
    {
     "name": "stdout",
     "output_type": "stream",
     "text": [
      "                A      B      C      D\n",
      "2018-10-14  False   True  False  False\n",
      "2018-10-15  False  False   True  False\n",
      "2018-10-16  False  False  False  False\n",
      "2018-10-17  False  False  False  False\n",
      "2018-10-18  False  False  False  False\n",
      "2018-10-19  False  False  False  False\n"
     ]
    }
   ],
   "source": [
    "print(df.isnull())"
   ]
  },
  {
   "cell_type": "markdown",
   "metadata": {},
   "source": [
    "在NAN的位置处会打印True，其余位置会打印False"
   ]
  },
  {
   "cell_type": "markdown",
   "metadata": {},
   "source": [
    "如果这个DataFrame特别大的时候，肉眼很难观察True和False的时候，可以用下面这种方法："
   ]
  },
  {
   "cell_type": "code",
   "execution_count": 8,
   "metadata": {},
   "outputs": [
    {
     "name": "stdout",
     "output_type": "stream",
     "text": [
      "True\n"
     ]
    }
   ],
   "source": [
    "print(np.any(df.isnull()) == True)"
   ]
  }
 ],
 "metadata": {
  "kernelspec": {
   "display_name": "Python 3",
   "language": "python",
   "name": "python3"
  },
  "language_info": {
   "codemirror_mode": {
    "name": "ipython",
    "version": 3
   },
   "file_extension": ".py",
   "mimetype": "text/x-python",
   "name": "python",
   "nbconvert_exporter": "python",
   "pygments_lexer": "ipython3",
   "version": "3.6.5"
  }
 },
 "nbformat": 4,
 "nbformat_minor": 2
}
