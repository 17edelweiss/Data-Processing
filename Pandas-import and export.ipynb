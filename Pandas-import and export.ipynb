{
 "cells": [
  {
   "cell_type": "markdown",
   "metadata": {},
   "source": [
    "# Pandas导入导出"
   ]
  },
  {
   "cell_type": "code",
   "execution_count": 1,
   "metadata": {},
   "outputs": [],
   "source": [
    "import pandas as pd"
   ]
  },
  {
   "cell_type": "markdown",
   "metadata": {},
   "source": [
    "## 读入文件 "
   ]
  },
  {
   "cell_type": "code",
   "execution_count": 2,
   "metadata": {},
   "outputs": [],
   "source": [
    "data = pd.read_csv('D:\\\\baojieData.csv')"
   ]
  },
  {
   "cell_type": "code",
   "execution_count": 3,
   "metadata": {},
   "outputs": [
    {
     "name": "stdout",
     "output_type": "stream",
     "text": [
      "            GIV LOCAL_STORE_TYPE VARIANT_NAME\n",
      "0      19624.00              HSW     碧浪专业去渍系列\n",
      "1      12821.01              HSW     碧浪专业去渍系列\n",
      "2      10793.20              HSW     碧浪专业去渍系列\n",
      "3          3.13              HSW     碧浪专业去渍系列\n",
      "4      12821.01              HSW     碧浪专业去渍系列\n",
      "5          3.13              HSW     碧浪专业去渍系列\n",
      "6      16680.40               SP     碧浪专业去渍系列\n",
      "7          3.13               SP     碧浪专业去渍系列\n",
      "8      58872.00              HSW     碧浪专业去渍系列\n",
      "9          3.13              HSW     碧浪专业去渍系列\n",
      "10     58872.00              HSW     碧浪专业去渍系列\n",
      "11         3.13              HSW     碧浪专业去渍系列\n",
      "12     58871.99              HSW     碧浪专业去渍系列\n",
      "13       223.38              HSW     碧浪专业去渍系列\n",
      "14     24530.00              HSW     碧浪专业去渍系列\n",
      "15         3.13              HSW     碧浪专业去渍系列\n",
      "16     11660.99              HSW     飘柔家庭护理系列\n",
      "17         6.83              HSW     飘柔家庭护理系列\n",
      "18     59899.99              HSW       全效基础系列\n",
      "19      1524.40              HSW       全效基础系列\n",
      "20     89827.99              HSW       全效基础系列\n",
      "21      1524.40              HSW       全效基础系列\n",
      "22     82260.00              HSW       全效基础系列\n",
      "23      1524.40              HSW       全效基础系列\n",
      "24     22473.89              HSW         沙宣系列\n",
      "25      4426.70              HSW         沙宣系列\n",
      "26     20778.29              SBT         沙宣系列\n",
      "27      4407.65              SBT         沙宣系列\n",
      "28     50129.99              HSW     碧浪专业去渍系列\n",
      "29     39248.00              HSW     碧浪专业去渍系列\n",
      "...         ...              ...          ...\n",
      "19663     24.85               HM      潘婷洗护发系列\n",
      "19664     24.85               HM      潘婷洗护发系列\n",
      "19665     24.85               HM      潘婷洗护发系列\n",
      "19666     24.85               HM      潘婷洗护发系列\n",
      "19667     24.85               HM      潘婷洗护发系列\n",
      "19668     24.85               HM      潘婷洗护发系列\n",
      "19669     24.85               HM      潘婷洗护发系列\n",
      "19670     24.85               HM      潘婷洗护发系列\n",
      "19671     24.85               HM      潘婷洗护发系列\n",
      "19672     24.85               HM      潘婷洗护发系列\n",
      "19673     21.34               HM      潘婷洗护发系列\n",
      "19674     14.91               HM      潘婷洗护发系列\n",
      "19675     14.91               HM      潘婷洗护发系列\n",
      "19676     14.91               HM      潘婷洗护发系列\n",
      "19677     14.91               HM      潘婷洗护发系列\n",
      "19678     14.91               HM      潘婷洗护发系列\n",
      "19679     13.77               HM      潘婷洗护发系列\n",
      "19680     13.77               HM      潘婷洗护发系列\n",
      "19681     13.77               HM      潘婷洗护发系列\n",
      "19682     13.77               HM      潘婷洗护发系列\n",
      "19683     13.77               HM      潘婷洗护发系列\n",
      "19684     13.77               HM      潘婷洗护发系列\n",
      "19685     13.77               HM      潘婷洗护发系列\n",
      "19686     13.77               HM      潘婷洗护发系列\n",
      "19687     13.77               HM      潘婷洗护发系列\n",
      "19688     12.02               HM      潘婷洗护发系列\n",
      "19689     10.67               HM      潘婷洗护发系列\n",
      "19690     10.66               HM      潘婷洗护发系列\n",
      "19691      4.05               HM      潘婷洗护发系列\n",
      "19692   -357.60               HM      潘婷洗护发系列\n",
      "\n",
      "[19693 rows x 3 columns]\n"
     ]
    }
   ],
   "source": [
    "print(data)"
   ]
  },
  {
   "cell_type": "markdown",
   "metadata": {},
   "source": [
    "如果读入的数据没有索引的话，Pandas会自动加索引"
   ]
  },
  {
   "cell_type": "markdown",
   "metadata": {},
   "source": [
    "## 存储文件 "
   ]
  },
  {
   "cell_type": "code",
   "execution_count": 4,
   "metadata": {},
   "outputs": [],
   "source": [
    "data.to_csv('D:\\'')"
   ]
  },
  {
   "cell_type": "markdown",
   "metadata": {},
   "source": [
    "也可以保存成Python自带的一种形式 "
   ]
  },
  {
   "cell_type": "code",
   "execution_count": 5,
   "metadata": {},
   "outputs": [],
   "source": [
    "data.to_pickle('Result.pickle')"
   ]
  }
 ],
 "metadata": {
  "kernelspec": {
   "display_name": "Python 3",
   "language": "python",
   "name": "python3"
  },
  "language_info": {
   "codemirror_mode": {
    "name": "ipython",
    "version": 3
   },
   "file_extension": ".py",
   "mimetype": "text/x-python",
   "name": "python",
   "nbconvert_exporter": "python",
   "pygments_lexer": "ipython3",
   "version": "3.6.5"
  }
 },
 "nbformat": 4,
 "nbformat_minor": 2
}
